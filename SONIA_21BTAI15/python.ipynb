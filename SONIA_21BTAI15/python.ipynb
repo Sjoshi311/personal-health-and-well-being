{
  "nbformat": 4,
  "nbformat_minor": 0,
  "metadata": {
    "colab": {
      "name": "python.ipynb",
      "provenance": [],
      "collapsed_sections": [],
      "authorship_tag": "ABX9TyM+3k2XCUcS0pzJGleJkCk0",
      "include_colab_link": true
    },
    "kernelspec": {
      "name": "python3",
      "display_name": "Python 3"
    },
    "language_info": {
      "name": "python"
    }
  },
  "cells": [
    {
      "cell_type": "markdown",
      "metadata": {
        "id": "view-in-github",
        "colab_type": "text"
      },
      "source": [
        "<a href=\"https://colab.research.google.com/github/Sjoshi311/personal-health-and-well-being/blob/main/SONIA_21BTAI15/python.ipynb\" target=\"_parent\"><img src=\"https://colab.research.google.com/assets/colab-badge.svg\" alt=\"Open In Colab\"/></a>"
      ]
    },
    {
      "cell_type": "markdown",
      "source": [
        "program 2"
      ],
      "metadata": {
        "id": "u2-7OFc_UpG3"
      }
    },
    {
      "cell_type": "code",
      "source": [
        "cor = input().split()\n",
        "x1=int(cor[0])\n",
        "x2=int(cor[1])\n",
        "y1=int(cor[2])\n",
        "y2=int(cor[3])\n",
        "a=(x2-x1)**2\n",
        "b=(y2-y1)**2\n",
        "dist=(a+b)**0.5\n",
        "print(\"distance between two points is: \",round(dist,3))"
      ],
      "metadata": {
        "colab": {
          "base_uri": "https://localhost:8080/"
        },
        "id": "-mT3vhnSUubn",
        "outputId": "b1b1e122-d7b1-4698-afe0-49257520781f"
      },
      "execution_count": null,
      "outputs": [
        {
          "output_type": "stream",
          "name": "stdout",
          "text": [
            "2 3 4 5\n",
            "distance between two points is:  1.414\n"
          ]
        }
      ]
    },
    {
      "cell_type": "markdown",
      "source": [
        "program 1"
      ],
      "metadata": {
        "id": "c3vfUh-1Uxn5"
      }
    },
    {
      "cell_type": "code",
      "source": [
        "var1 = 'this is a string'\n",
        "var2 = 21\n",
        "var3 = 3.0\n",
        "var4 = [1,'hello',54,'23']\n",
        "print(type(var1))\n",
        "print(type(var2))\n",
        "print(type(var3))\n",
        "print(type(var4))"
      ],
      "metadata": {
        "colab": {
          "base_uri": "https://localhost:8080/"
        },
        "id": "M0rfHSgNUH8M",
        "outputId": "6aa42dca-9629-41b9-9497-22539055a13c"
      },
      "execution_count": null,
      "outputs": [
        {
          "output_type": "stream",
          "name": "stdout",
          "text": [
            "<class 'str'>\n",
            "<class 'int'>\n",
            "<class 'float'>\n",
            "<class 'list'>\n"
          ]
        }
      ]
    },
    {
      "cell_type": "markdown",
      "source": [
        "program 3 (i) odd even"
      ],
      "metadata": {
        "id": "HJnfhImp3rze"
      }
    },
    {
      "cell_type": "code",
      "source": [
        "a=int(input())\n",
        "if a%2==0:\n",
        "  print(\"given number is even\")\n",
        "else:\n",
        "  print(\"given number is odd\")\n",
        "\n"
      ],
      "metadata": {
        "colab": {
          "base_uri": "https://localhost:8080/"
        },
        "id": "pne-XZgT3sas",
        "outputId": "99b9b9e8-f52b-4689-a398-ec015aff8319"
      },
      "execution_count": null,
      "outputs": [
        {
          "output_type": "stream",
          "name": "stdout",
          "text": [
            "99\n",
            "given number is odd\n"
          ]
        }
      ]
    },
    {
      "cell_type": "markdown",
      "source": [
        "program 3 (ii) armstrong number\n"
      ],
      "metadata": {
        "id": "um_r4PewAWyH"
      }
    },
    {
      "cell_type": "code",
      "source": [
        "count=0\n",
        "sum=0\n",
        "a=int(input())\n",
        "n=a\n",
        "while(n!=0):\n",
        "  n//=10\n",
        "  count+=1\n",
        "n=a\n",
        "for i in range (1,count+1):\n",
        "  r=n%10\n",
        "  sum+=(r**count)\n",
        "  n//=10\n",
        "if a==sum:\n",
        "  print(\"armstong!\")\n",
        "else:\n",
        "  print(\"not an armstrong\")"
      ],
      "metadata": {
        "colab": {
          "base_uri": "https://localhost:8080/"
        },
        "id": "Fj-0H8TzAbkg",
        "outputId": "0e75eef7-938e-4fac-8410-3224ff578c09"
      },
      "execution_count": null,
      "outputs": [
        {
          "output_type": "stream",
          "name": "stdout",
          "text": [
            "9474\n",
            "armstong!\n"
          ]
        }
      ]
    },
    {
      "cell_type": "markdown",
      "source": [
        "REVERSE COUNT"
      ],
      "metadata": {
        "id": "GcXcdkZG2MR0"
      }
    },
    {
      "cell_type": "code",
      "source": [
        "i=int(input())\n",
        "\n",
        "\n",
        "while i!=-1:\n",
        "  print(i)\n",
        "  i=i-1"
      ],
      "metadata": {
        "id": "nJI-1WQiMr8C",
        "colab": {
          "base_uri": "https://localhost:8080/"
        },
        "outputId": "5b65f32d-cd5f-4db2-a931-0443bd16f66e"
      },
      "execution_count": 1,
      "outputs": [
        {
          "output_type": "stream",
          "name": "stdout",
          "text": [
            "5\n",
            "5\n",
            "4\n",
            "3\n",
            "2\n",
            "1\n",
            "0\n"
          ]
        }
      ]
    },
    {
      "cell_type": "markdown",
      "source": [
        "COUNT THE NUMBER OF CHARACTERS"
      ],
      "metadata": {
        "id": "wS-CeL1ERmbf"
      }
    },
    {
      "cell_type": "code",
      "source": [
        "a=\"Enter a string\"\n",
        "b={}\n",
        "for i in a:\n",
        "  b[i]=a.count(i)\n",
        "print(b)"
      ],
      "metadata": {
        "id": "iHFXxtwiRrwq",
        "colab": {
          "base_uri": "https://localhost:8080/"
        },
        "outputId": "2c8dc94a-2279-4041-cd3d-15a31fdbfc68"
      },
      "execution_count": 2,
      "outputs": [
        {
          "output_type": "stream",
          "name": "stdout",
          "text": [
            "{'E': 1, 'n': 2, 't': 2, 'e': 1, 'r': 2, ' ': 2, 'a': 1, 's': 1, 'i': 1, 'g': 1}\n"
          ]
        }
      ]
    },
    {
      "cell_type": "markdown",
      "source": [
        "LIST AND TUPLE"
      ],
      "metadata": {
        "id": "5l8NcUrtR0rL"
      }
    },
    {
      "cell_type": "code",
      "source": [
        "lists=[\"world\",\"hello\",\"bye\"]\n",
        "print(lists)\n",
        "\n",
        "tuple=(\"world\",\"hello\",\"bye\")\n",
        "print(tuple)\n",
        "\n",
        "for v in lists:\n",
        "  print(v)\n",
        "for v in tuple:\n",
        "  print(v)"
      ],
      "metadata": {
        "id": "tEzQmfQdR55U",
        "colab": {
          "base_uri": "https://localhost:8080/"
        },
        "outputId": "3963411d-7d76-41bc-b875-6b8db3cabd93"
      },
      "execution_count": 3,
      "outputs": [
        {
          "output_type": "stream",
          "name": "stdout",
          "text": [
            "['world', 'hello', 'bye']\n",
            "('world', 'hello', 'bye')\n",
            "world\n",
            "hello\n",
            "bye\n",
            "world\n",
            "hello\n",
            "bye\n"
          ]
        }
      ]
    }
  ]
}